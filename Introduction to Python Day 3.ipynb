{
 "cells": [
  {
   "cell_type": "markdown",
   "id": "c1edb793",
   "metadata": {},
   "source": [
    "# Slice Out \"ext and we are going\""
   ]
  },
  {
   "cell_type": "code",
   "execution_count": 5,
   "id": "e6d80dab",
   "metadata": {},
   "outputs": [],
   "source": [
    "test='This is a really long piece of text and we are going use it for practice'"
   ]
  },
  {
   "cell_type": "code",
   "execution_count": 2,
   "id": "984d52e3",
   "metadata": {},
   "outputs": [
    {
     "data": {
      "text/plain": [
       "'THIS IS A REALLY LONG PIECE OF TEXT AND WE ARE GOING TO USE IT FOR PRACTICE'"
      ]
     },
     "execution_count": 2,
     "metadata": {},
     "output_type": "execute_result"
    }
   ],
   "source": [
    "test.upper()"
   ]
  },
  {
   "cell_type": "code",
   "execution_count": 3,
   "id": "a6da1c14",
   "metadata": {},
   "outputs": [
    {
     "data": {
      "text/plain": [
       "['This',\n",
       " 'is',\n",
       " 'a',\n",
       " 'really',\n",
       " 'long',\n",
       " 'piece',\n",
       " 'of',\n",
       " 'text',\n",
       " 'and',\n",
       " 'we',\n",
       " 'are',\n",
       " 'going',\n",
       " 'to',\n",
       " 'use',\n",
       " 'it',\n",
       " 'for',\n",
       " 'practice']"
      ]
     },
     "execution_count": 3,
     "metadata": {},
     "output_type": "execute_result"
    }
   ],
   "source": [
    "test.split()"
   ]
  },
  {
   "cell_type": "code",
   "execution_count": 6,
   "id": "4b48837d",
   "metadata": {},
   "outputs": [
    {
     "data": {
      "text/plain": [
       "'ext and we are going'"
      ]
     },
     "execution_count": 6,
     "metadata": {},
     "output_type": "execute_result"
    }
   ],
   "source": [
    "#Assignment/Classwork\n",
    "test[32:-20]"
   ]
  },
  {
   "cell_type": "code",
   "execution_count": 7,
   "id": "93a66812",
   "metadata": {},
   "outputs": [],
   "source": [
    "#Booleans\n"
   ]
  },
  {
   "cell_type": "code",
   "execution_count": 8,
   "id": "fbb08910",
   "metadata": {},
   "outputs": [],
   "source": [
    "a=True"
   ]
  },
  {
   "cell_type": "code",
   "execution_count": 9,
   "id": "99d96d56",
   "metadata": {},
   "outputs": [
    {
     "data": {
      "text/plain": [
       "bool"
      ]
     },
     "execution_count": 9,
     "metadata": {},
     "output_type": "execute_result"
    }
   ],
   "source": [
    "type(a)"
   ]
  },
  {
   "cell_type": "code",
   "execution_count": 10,
   "id": "19d924aa",
   "metadata": {},
   "outputs": [
    {
     "data": {
      "text/plain": [
       "False"
      ]
     },
     "execution_count": 10,
     "metadata": {},
     "output_type": "execute_result"
    }
   ],
   "source": [
    "1>2"
   ]
  },
  {
   "cell_type": "code",
   "execution_count": 11,
   "id": "654863ac",
   "metadata": {},
   "outputs": [],
   "source": [
    "c=None"
   ]
  },
  {
   "cell_type": "code",
   "execution_count": 12,
   "id": "d6778ebd",
   "metadata": {},
   "outputs": [
    {
     "data": {
      "text/plain": [
       "NoneType"
      ]
     },
     "execution_count": 12,
     "metadata": {},
     "output_type": "execute_result"
    }
   ],
   "source": [
    "type(c)"
   ]
  },
  {
   "cell_type": "markdown",
   "id": "9dd05a4a",
   "metadata": {},
   "source": [
    "# Dictionaries Tuples and Sets \n"
   ]
  },
  {
   "cell_type": "code",
   "execution_count": 13,
   "id": "41de9079",
   "metadata": {},
   "outputs": [],
   "source": [
    "new_dict={\"item1\":1,\n",
    "         \"item2\":2,\n",
    "         \"item3\":\"Abuja\"}"
   ]
  },
  {
   "cell_type": "code",
   "execution_count": 14,
   "id": "2ac28a1b",
   "metadata": {},
   "outputs": [
    {
     "data": {
      "text/plain": [
       "dict"
      ]
     },
     "execution_count": 14,
     "metadata": {},
     "output_type": "execute_result"
    }
   ],
   "source": [
    "type(new_dict)"
   ]
  },
  {
   "cell_type": "code",
   "execution_count": 15,
   "id": "2492d168",
   "metadata": {},
   "outputs": [
    {
     "data": {
      "text/plain": [
       "{'item1': 1, 'item2': 2, 'item3': 'Abuja'}"
      ]
     },
     "execution_count": 15,
     "metadata": {},
     "output_type": "execute_result"
    }
   ],
   "source": [
    "new_dict"
   ]
  },
  {
   "cell_type": "code",
   "execution_count": 16,
   "id": "44a4f288",
   "metadata": {},
   "outputs": [],
   "source": [
    "new_dict['item3']='Kano'"
   ]
  },
  {
   "cell_type": "code",
   "execution_count": 17,
   "id": "1a811423",
   "metadata": {},
   "outputs": [
    {
     "data": {
      "text/plain": [
       "{'item1': 1, 'item2': 2, 'item3': 'Kano'}"
      ]
     },
     "execution_count": 17,
     "metadata": {},
     "output_type": "execute_result"
    }
   ],
   "source": [
    "new_dict"
   ]
  },
  {
   "cell_type": "code",
   "execution_count": 19,
   "id": "3cb3e741",
   "metadata": {},
   "outputs": [],
   "source": [
    "dict={'name':\"Adedeji Omodolapo\",\n",
    "     'Email':\"omodolapoadedejidave@gmail.com\",\n",
    "     \"Address\":\"22 Uduemeze Church avenue Abakaliki\"}"
   ]
  },
  {
   "cell_type": "code",
   "execution_count": 20,
   "id": "7569183f",
   "metadata": {},
   "outputs": [
    {
     "data": {
      "text/plain": [
       "{'name': 'Adedeji Omodolapo',\n",
       " 'Email': 'omodolapoadedejidave@gmail.com',\n",
       " 'Address': '22 Uduemeze Church avenue Abakaliki'}"
      ]
     },
     "execution_count": 20,
     "metadata": {},
     "output_type": "execute_result"
    }
   ],
   "source": [
    "dict"
   ]
  },
  {
   "cell_type": "code",
   "execution_count": 21,
   "id": "1c3e370d",
   "metadata": {},
   "outputs": [
    {
     "name": "stdout",
     "output_type": "stream",
     "text": [
      "Adedeji Omodolapo omodolapoadedejidave@gmail.com\n"
     ]
    }
   ],
   "source": [
    "print(dict['name'], dict['Email'])"
   ]
  },
  {
   "cell_type": "code",
   "execution_count": 22,
   "id": "e29f411c",
   "metadata": {},
   "outputs": [],
   "source": [
    "dict['age']=24"
   ]
  },
  {
   "cell_type": "code",
   "execution_count": 23,
   "id": "dc2e9012",
   "metadata": {},
   "outputs": [
    {
     "data": {
      "text/plain": [
       "{'name': 'Adedeji Omodolapo',\n",
       " 'Email': 'omodolapoadedejidave@gmail.com',\n",
       " 'Address': '22 Uduemeze Church avenue Abakaliki',\n",
       " 'age': 24}"
      ]
     },
     "execution_count": 23,
     "metadata": {},
     "output_type": "execute_result"
    }
   ],
   "source": [
    "dict"
   ]
  },
  {
   "cell_type": "code",
   "execution_count": 24,
   "id": "fb0c8b7f",
   "metadata": {},
   "outputs": [],
   "source": [
    "d={'k1':10,\n",
    "  'k2':\"stingy\",\n",
    "  'k3':[1,2,3,],\n",
    "  'k4':{'inside_key':[20,30,40,{'key_inside':[60,20,'thirty']}]}}"
   ]
  },
  {
   "cell_type": "code",
   "execution_count": 25,
   "id": "7a5c8453",
   "metadata": {},
   "outputs": [
    {
     "data": {
      "text/plain": [
       "{'inside_key': [20, 30, 40, {'key_inside': [60, 20, 'thirty']}]}"
      ]
     },
     "execution_count": 25,
     "metadata": {},
     "output_type": "execute_result"
    }
   ],
   "source": [
    "d['k4']"
   ]
  },
  {
   "cell_type": "code",
   "execution_count": 26,
   "id": "4ab1f4bd",
   "metadata": {},
   "outputs": [
    {
     "data": {
      "text/plain": [
       "[20, 30, 40, {'key_inside': [60, 20, 'thirty']}]"
      ]
     },
     "execution_count": 26,
     "metadata": {},
     "output_type": "execute_result"
    }
   ],
   "source": [
    "d['k4']['inside_key']"
   ]
  },
  {
   "cell_type": "code",
   "execution_count": 27,
   "id": "707e3d43",
   "metadata": {},
   "outputs": [
    {
     "data": {
      "text/plain": [
       "{'key_inside': [60, 20, 'thirty']}"
      ]
     },
     "execution_count": 27,
     "metadata": {},
     "output_type": "execute_result"
    }
   ],
   "source": [
    "d['k4']['inside_key'][3]"
   ]
  },
  {
   "cell_type": "code",
   "execution_count": 28,
   "id": "aaa0f601",
   "metadata": {},
   "outputs": [
    {
     "data": {
      "text/plain": [
       "[60, 20, 'thirty']"
      ]
     },
     "execution_count": 28,
     "metadata": {},
     "output_type": "execute_result"
    }
   ],
   "source": [
    "d['k4']['inside_key'][3]['key_inside']"
   ]
  },
  {
   "cell_type": "code",
   "execution_count": 29,
   "id": "099cbc41",
   "metadata": {},
   "outputs": [
    {
     "data": {
      "text/plain": [
       "[20, 'thirty']"
      ]
     },
     "execution_count": 29,
     "metadata": {},
     "output_type": "execute_result"
    }
   ],
   "source": [
    "d['k4']['inside_key'][3]['key_inside'][1:]"
   ]
  },
  {
   "cell_type": "code",
   "execution_count": 30,
   "id": "ba68a7cc",
   "metadata": {},
   "outputs": [
    {
     "data": {
      "text/plain": [
       "10"
      ]
     },
     "execution_count": 30,
     "metadata": {},
     "output_type": "execute_result"
    }
   ],
   "source": [
    "d['k1']"
   ]
  },
  {
   "cell_type": "code",
   "execution_count": 33,
   "id": "67011a27",
   "metadata": {},
   "outputs": [
    {
     "data": {
      "text/plain": [
       "dict_keys(['k1', 'k2', 'k3', 'k4'])"
      ]
     },
     "execution_count": 33,
     "metadata": {},
     "output_type": "execute_result"
    }
   ],
   "source": [
    "#Methods\n",
    "d.keys()\n"
   ]
  },
  {
   "cell_type": "code",
   "execution_count": 32,
   "id": "5cfd5049",
   "metadata": {},
   "outputs": [
    {
     "data": {
      "text/plain": [
       "dict_values([10, 'stingy', [1, 2, 3], {'inside_key': [20, 30, 40, {'key_inside': [60, 20, 'thirty']}]}])"
      ]
     },
     "execution_count": 32,
     "metadata": {},
     "output_type": "execute_result"
    }
   ],
   "source": [
    "d.values()"
   ]
  },
  {
   "cell_type": "markdown",
   "id": "eac0124e",
   "metadata": {},
   "source": [
    "# Tuples"
   ]
  },
  {
   "cell_type": "code",
   "execution_count": 34,
   "id": "0bb8b016",
   "metadata": {},
   "outputs": [],
   "source": [
    "t=(1,2,3)"
   ]
  },
  {
   "cell_type": "code",
   "execution_count": 35,
   "id": "6aaeeacd",
   "metadata": {},
   "outputs": [
    {
     "data": {
      "text/plain": [
       "tuple"
      ]
     },
     "execution_count": 35,
     "metadata": {},
     "output_type": "execute_result"
    }
   ],
   "source": [
    "type(t)"
   ]
  },
  {
   "cell_type": "code",
   "execution_count": 36,
   "id": "08494bcb",
   "metadata": {},
   "outputs": [],
   "source": [
    "t=('a',1)"
   ]
  },
  {
   "cell_type": "code",
   "execution_count": 37,
   "id": "65840681",
   "metadata": {},
   "outputs": [
    {
     "data": {
      "text/plain": [
       "'a'"
      ]
     },
     "execution_count": 37,
     "metadata": {},
     "output_type": "execute_result"
    }
   ],
   "source": [
    "t[0]"
   ]
  },
  {
   "cell_type": "code",
   "execution_count": 38,
   "id": "7f41a33d",
   "metadata": {},
   "outputs": [
    {
     "data": {
      "text/plain": [
       "0"
      ]
     },
     "execution_count": 38,
     "metadata": {},
     "output_type": "execute_result"
    }
   ],
   "source": [
    "t.index('a')"
   ]
  },
  {
   "cell_type": "code",
   "execution_count": 40,
   "id": "5b73e2dd",
   "metadata": {},
   "outputs": [
    {
     "data": {
      "text/plain": [
       "1"
      ]
     },
     "execution_count": 40,
     "metadata": {},
     "output_type": "execute_result"
    }
   ],
   "source": [
    "t.count('a')"
   ]
  },
  {
   "cell_type": "code",
   "execution_count": 41,
   "id": "82a624c9",
   "metadata": {},
   "outputs": [],
   "source": [
    "#Sets"
   ]
  },
  {
   "cell_type": "code",
   "execution_count": 42,
   "id": "3b5539d1",
   "metadata": {},
   "outputs": [],
   "source": [
    "x=set()"
   ]
  },
  {
   "cell_type": "code",
   "execution_count": 43,
   "id": "3bea3d34",
   "metadata": {},
   "outputs": [],
   "source": [
    "x.add(1)"
   ]
  },
  {
   "cell_type": "code",
   "execution_count": 44,
   "id": "7097679d",
   "metadata": {},
   "outputs": [
    {
     "data": {
      "text/plain": [
       "{1}"
      ]
     },
     "execution_count": 44,
     "metadata": {},
     "output_type": "execute_result"
    }
   ],
   "source": [
    "x"
   ]
  },
  {
   "cell_type": "code",
   "execution_count": 45,
   "id": "14f47a1b",
   "metadata": {},
   "outputs": [
    {
     "data": {
      "text/plain": [
       "set"
      ]
     },
     "execution_count": 45,
     "metadata": {},
     "output_type": "execute_result"
    }
   ],
   "source": [
    "type(x)"
   ]
  },
  {
   "cell_type": "code",
   "execution_count": null,
   "id": "d7176124",
   "metadata": {},
   "outputs": [],
   "source": []
  }
 ],
 "metadata": {
  "kernelspec": {
   "display_name": "Python 3 (ipykernel)",
   "language": "python",
   "name": "python3"
  },
  "language_info": {
   "codemirror_mode": {
    "name": "ipython",
    "version": 3
   },
   "file_extension": ".py",
   "mimetype": "text/x-python",
   "name": "python",
   "nbconvert_exporter": "python",
   "pygments_lexer": "ipython3",
   "version": "3.10.9"
  }
 },
 "nbformat": 4,
 "nbformat_minor": 5
}
