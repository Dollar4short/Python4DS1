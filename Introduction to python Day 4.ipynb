{
 "cells": [
  {
   "cell_type": "markdown",
   "id": "bd0ca8ce",
   "metadata": {},
   "source": [
    "# Lists and Loops"
   ]
  },
  {
   "cell_type": "code",
   "execution_count": null,
   "id": "b8692b0a",
   "metadata": {},
   "outputs": [],
   "source": [
    "alist=[]\n",
    "type(alist)"
   ]
  },
  {
   "cell_type": "code",
   "execution_count": 2,
   "id": "151e52c2",
   "metadata": {},
   "outputs": [],
   "source": [
    "my_list=[1,2,3]"
   ]
  },
  {
   "cell_type": "code",
   "execution_count": 3,
   "id": "4f7aa978",
   "metadata": {},
   "outputs": [
    {
     "data": {
      "text/plain": [
       "[1, 2, 3]"
      ]
     },
     "execution_count": 3,
     "metadata": {},
     "output_type": "execute_result"
    }
   ],
   "source": [
    "my_list"
   ]
  },
  {
   "cell_type": "code",
   "execution_count": 6,
   "id": "e5324c15",
   "metadata": {},
   "outputs": [],
   "source": [
    "my_list2 = ['a','b','c',1, 2]"
   ]
  },
  {
   "cell_type": "code",
   "execution_count": 7,
   "id": "efb2e072",
   "metadata": {},
   "outputs": [
    {
     "data": {
      "text/plain": [
       "list"
      ]
     },
     "execution_count": 7,
     "metadata": {},
     "output_type": "execute_result"
    }
   ],
   "source": [
    "type(my_list2)"
   ]
  },
  {
   "cell_type": "code",
   "execution_count": 8,
   "id": "c4c063e5",
   "metadata": {},
   "outputs": [],
   "source": [
    "a=100\n",
    "b=200\n",
    "c=300\n",
    "my_list3=[a,b,c,1,7]"
   ]
  },
  {
   "cell_type": "code",
   "execution_count": 9,
   "id": "d627e74c",
   "metadata": {},
   "outputs": [
    {
     "data": {
      "text/plain": [
       "[100, 200, 300, 1, 7]"
      ]
     },
     "execution_count": 9,
     "metadata": {},
     "output_type": "execute_result"
    }
   ],
   "source": [
    "my_list3"
   ]
  },
  {
   "cell_type": "markdown",
   "id": "b3c81ed5",
   "metadata": {},
   "source": [
    "# Indexing and Slicing"
   ]
  },
  {
   "cell_type": "code",
   "execution_count": 10,
   "id": "a4d99246",
   "metadata": {},
   "outputs": [],
   "source": [
    "my_list=['a','b','c','d']"
   ]
  },
  {
   "cell_type": "code",
   "execution_count": 11,
   "id": "89bc5160",
   "metadata": {},
   "outputs": [
    {
     "data": {
      "text/plain": [
       "'d'"
      ]
     },
     "execution_count": 11,
     "metadata": {},
     "output_type": "execute_result"
    }
   ],
   "source": [
    "my_list[3]"
   ]
  },
  {
   "cell_type": "code",
   "execution_count": 13,
   "id": "e3e54a1c",
   "metadata": {},
   "outputs": [
    {
     "data": {
      "text/plain": [
       "['a', 'b', 'c']"
      ]
     },
     "execution_count": 13,
     "metadata": {},
     "output_type": "execute_result"
    }
   ],
   "source": [
    "my_list[0:3]"
   ]
  },
  {
   "cell_type": "code",
   "execution_count": 14,
   "id": "379e01b6",
   "metadata": {},
   "outputs": [
    {
     "data": {
      "text/plain": [
       "'a'"
      ]
     },
     "execution_count": 14,
     "metadata": {},
     "output_type": "execute_result"
    }
   ],
   "source": [
    "my_list[0]"
   ]
  },
  {
   "cell_type": "code",
   "execution_count": 15,
   "id": "d14b14f7",
   "metadata": {},
   "outputs": [
    {
     "data": {
      "text/plain": [
       "'a'"
      ]
     },
     "execution_count": 15,
     "metadata": {},
     "output_type": "execute_result"
    }
   ],
   "source": [
    "my_list[-4]"
   ]
  },
  {
   "cell_type": "code",
   "execution_count": 16,
   "id": "a60ce74c",
   "metadata": {},
   "outputs": [
    {
     "data": {
      "text/plain": [
       "['b', 'c']"
      ]
     },
     "execution_count": 16,
     "metadata": {},
     "output_type": "execute_result"
    }
   ],
   "source": [
    "my_list[1:3]"
   ]
  },
  {
   "cell_type": "code",
   "execution_count": 18,
   "id": "84225f14",
   "metadata": {},
   "outputs": [
    {
     "data": {
      "text/plain": [
       "['b', 'c', 'd']"
      ]
     },
     "execution_count": 18,
     "metadata": {},
     "output_type": "execute_result"
    }
   ],
   "source": [
    "my_list[1:]"
   ]
  },
  {
   "cell_type": "markdown",
   "id": "346ba89d",
   "metadata": {},
   "source": [
    "# len Function"
   ]
  },
  {
   "cell_type": "code",
   "execution_count": 19,
   "id": "47cb2231",
   "metadata": {},
   "outputs": [
    {
     "data": {
      "text/plain": [
       "6"
      ]
     },
     "execution_count": 19,
     "metadata": {},
     "output_type": "execute_result"
    }
   ],
   "source": [
    "len('string')"
   ]
  },
  {
   "cell_type": "code",
   "execution_count": 23,
   "id": "abfb4263",
   "metadata": {},
   "outputs": [
    {
     "data": {
      "text/plain": [
       "5"
      ]
     },
     "execution_count": 23,
     "metadata": {},
     "output_type": "execute_result"
    }
   ],
   "source": [
    "len(my_list)"
   ]
  },
  {
   "cell_type": "code",
   "execution_count": 24,
   "id": "7728bd53",
   "metadata": {},
   "outputs": [],
   "source": [
    "my_list=[1,2,3]"
   ]
  },
  {
   "cell_type": "code",
   "execution_count": 21,
   "id": "b806de85",
   "metadata": {},
   "outputs": [],
   "source": [
    "# Append"
   ]
  },
  {
   "cell_type": "code",
   "execution_count": 25,
   "id": "6b19fca5",
   "metadata": {},
   "outputs": [],
   "source": [
    "my_list.append(6)"
   ]
  },
  {
   "cell_type": "code",
   "execution_count": 26,
   "id": "236036bf",
   "metadata": {},
   "outputs": [
    {
     "data": {
      "text/plain": [
       "[1, 2, 3, 6]"
      ]
     },
     "execution_count": 26,
     "metadata": {},
     "output_type": "execute_result"
    }
   ],
   "source": [
    "my_list"
   ]
  },
  {
   "cell_type": "code",
   "execution_count": 27,
   "id": "0d57935a",
   "metadata": {},
   "outputs": [
    {
     "data": {
      "text/plain": [
       "6"
      ]
     },
     "execution_count": 27,
     "metadata": {},
     "output_type": "execute_result"
    }
   ],
   "source": [
    "my_list.pop()"
   ]
  },
  {
   "cell_type": "code",
   "execution_count": 28,
   "id": "118d02f3",
   "metadata": {},
   "outputs": [
    {
     "data": {
      "text/plain": [
       "[1, 2, 3]"
      ]
     },
     "execution_count": 28,
     "metadata": {},
     "output_type": "execute_result"
    }
   ],
   "source": [
    "my_list"
   ]
  },
  {
   "cell_type": "code",
   "execution_count": 29,
   "id": "20fb1b6a",
   "metadata": {},
   "outputs": [],
   "source": [
    "my_list.append(4)"
   ]
  },
  {
   "cell_type": "code",
   "execution_count": 30,
   "id": "e7ff9ba2",
   "metadata": {},
   "outputs": [
    {
     "data": {
      "text/plain": [
       "[1, 2, 3, 4]"
      ]
     },
     "execution_count": 30,
     "metadata": {},
     "output_type": "execute_result"
    }
   ],
   "source": [
    "my_list"
   ]
  },
  {
   "cell_type": "code",
   "execution_count": 31,
   "id": "1de66c1e",
   "metadata": {},
   "outputs": [],
   "source": [
    "list=[1,2,3,4,5]"
   ]
  },
  {
   "cell_type": "code",
   "execution_count": 32,
   "id": "5da52c29",
   "metadata": {},
   "outputs": [
    {
     "data": {
      "text/plain": [
       "2"
      ]
     },
     "execution_count": 32,
     "metadata": {},
     "output_type": "execute_result"
    }
   ],
   "source": [
    "list.pop(1)"
   ]
  },
  {
   "cell_type": "code",
   "execution_count": 33,
   "id": "842c4696",
   "metadata": {},
   "outputs": [
    {
     "data": {
      "text/plain": [
       "[1, 3, 4, 5]"
      ]
     },
     "execution_count": 33,
     "metadata": {},
     "output_type": "execute_result"
    }
   ],
   "source": [
    "list"
   ]
  },
  {
   "cell_type": "code",
   "execution_count": 34,
   "id": "90868311",
   "metadata": {},
   "outputs": [],
   "source": [
    "list.append(1)"
   ]
  },
  {
   "cell_type": "code",
   "execution_count": 35,
   "id": "cd7cbf13",
   "metadata": {},
   "outputs": [],
   "source": [
    "new_list=[1,2,3,4,5]"
   ]
  },
  {
   "cell_type": "code",
   "execution_count": 36,
   "id": "cffaa82e",
   "metadata": {},
   "outputs": [
    {
     "name": "stdout",
     "output_type": "stream",
     "text": [
      "[1, 3, 4, 5]\n"
     ]
    }
   ],
   "source": [
    "del new_list[1]\n",
    "print(new_list)"
   ]
  },
  {
   "cell_type": "code",
   "execution_count": 38,
   "id": "0581b985",
   "metadata": {},
   "outputs": [],
   "source": [
    "del new_list[1:3]"
   ]
  },
  {
   "cell_type": "code",
   "execution_count": 39,
   "id": "2bf94476",
   "metadata": {},
   "outputs": [
    {
     "data": {
      "text/plain": [
       "[1, 5]"
      ]
     },
     "execution_count": 39,
     "metadata": {},
     "output_type": "execute_result"
    }
   ],
   "source": [
    "new_list"
   ]
  },
  {
   "cell_type": "code",
   "execution_count": 40,
   "id": "290a6426",
   "metadata": {},
   "outputs": [],
   "source": [
    "del new_list"
   ]
  },
  {
   "cell_type": "code",
   "execution_count": 41,
   "id": "086fabfd",
   "metadata": {},
   "outputs": [
    {
     "data": {
      "text/plain": [
       "[1, 4]"
      ]
     },
     "execution_count": 41,
     "metadata": {},
     "output_type": "execute_result"
    }
   ],
   "source": [
    "my_list"
   ]
  },
  {
   "cell_type": "code",
   "execution_count": 42,
   "id": "f7782f7c",
   "metadata": {},
   "outputs": [],
   "source": [
    "my_list.clear()"
   ]
  },
  {
   "cell_type": "code",
   "execution_count": 53,
   "id": "0a234bc7",
   "metadata": {},
   "outputs": [],
   "source": [
    "my_list=[1,2,3]"
   ]
  },
  {
   "cell_type": "code",
   "execution_count": 44,
   "id": "14fac33c",
   "metadata": {},
   "outputs": [],
   "source": [
    "my_list.reverse()"
   ]
  },
  {
   "cell_type": "code",
   "execution_count": 45,
   "id": "7ce8c7b6",
   "metadata": {},
   "outputs": [
    {
     "data": {
      "text/plain": [
       "[3, 2, 1]"
      ]
     },
     "execution_count": 45,
     "metadata": {},
     "output_type": "execute_result"
    }
   ],
   "source": [
    "my_list"
   ]
  },
  {
   "cell_type": "code",
   "execution_count": 46,
   "id": "0328e1e6",
   "metadata": {},
   "outputs": [],
   "source": [
    "my_list.sort(reverse=True)"
   ]
  },
  {
   "cell_type": "code",
   "execution_count": 47,
   "id": "313a6be5",
   "metadata": {},
   "outputs": [
    {
     "data": {
      "text/plain": [
       "[3, 2, 1]"
      ]
     },
     "execution_count": 47,
     "metadata": {},
     "output_type": "execute_result"
    }
   ],
   "source": [
    "my_list"
   ]
  },
  {
   "cell_type": "code",
   "execution_count": 54,
   "id": "8d1a2233",
   "metadata": {},
   "outputs": [],
   "source": [
    "my_list.insert(2, 'middle')"
   ]
  },
  {
   "cell_type": "code",
   "execution_count": 55,
   "id": "13fb0db4",
   "metadata": {},
   "outputs": [
    {
     "data": {
      "text/plain": [
       "[1, 2, 'middle', 3]"
      ]
     },
     "execution_count": 55,
     "metadata": {},
     "output_type": "execute_result"
    }
   ],
   "source": [
    "my_list"
   ]
  },
  {
   "cell_type": "code",
   "execution_count": 56,
   "id": "46b91a75",
   "metadata": {},
   "outputs": [],
   "source": [
    "list1=['a','b','c']\n",
    "list2=['e','f','g']"
   ]
  },
  {
   "cell_type": "code",
   "execution_count": 57,
   "id": "688f1f55",
   "metadata": {},
   "outputs": [],
   "source": [
    "list1.extend(list2)"
   ]
  },
  {
   "cell_type": "code",
   "execution_count": 58,
   "id": "bcf49683",
   "metadata": {},
   "outputs": [
    {
     "data": {
      "text/plain": [
       "['a', 'b', 'c', 'e', 'f', 'g']"
      ]
     },
     "execution_count": 58,
     "metadata": {},
     "output_type": "execute_result"
    }
   ],
   "source": [
    "list1"
   ]
  },
  {
   "cell_type": "markdown",
   "id": "046444a8",
   "metadata": {},
   "source": [
    "# Nested Lists"
   ]
  },
  {
   "cell_type": "code",
   "execution_count": 60,
   "id": "645f865c",
   "metadata": {},
   "outputs": [],
   "source": [
    "new_list=[1,2,3,['a','b','c']]"
   ]
  },
  {
   "cell_type": "code",
   "execution_count": 61,
   "id": "045077db",
   "metadata": {},
   "outputs": [
    {
     "data": {
      "text/plain": [
       "['a', 'b', 'c']"
      ]
     },
     "execution_count": 61,
     "metadata": {},
     "output_type": "execute_result"
    }
   ],
   "source": [
    "new_list[3]"
   ]
  },
  {
   "cell_type": "code",
   "execution_count": 62,
   "id": "392e4db8",
   "metadata": {},
   "outputs": [
    {
     "data": {
      "text/plain": [
       "'a'"
      ]
     },
     "execution_count": 62,
     "metadata": {},
     "output_type": "execute_result"
    }
   ],
   "source": [
    "new_list[3][0]"
   ]
  },
  {
   "cell_type": "markdown",
   "id": "18436d71",
   "metadata": {},
   "source": [
    "# Loops\n",
    "## While Loops"
   ]
  },
  {
   "cell_type": "code",
   "execution_count": 65,
   "id": "3fc7d43a",
   "metadata": {},
   "outputs": [
    {
     "name": "stdout",
     "output_type": "stream",
     "text": [
      "a is less than 10\n",
      "a is less than 10\n",
      "a is less than 10\n",
      "a is less than 10\n",
      "a is less than 10\n",
      "a is less than 10\n",
      "a is less than 10\n",
      "a is less than 10\n",
      "a is less than 10\n"
     ]
    }
   ],
   "source": [
    "a=1\n",
    "\n",
    "while a<10:\n",
    "    print('a is less than 10')\n",
    "    a=a+1"
   ]
  },
  {
   "cell_type": "code",
   "execution_count": 67,
   "id": "d2dc09b4",
   "metadata": {},
   "outputs": [
    {
     "name": "stdout",
     "output_type": "stream",
     "text": [
      "a is less than 10\n",
      "1\n",
      "a is less than 10\n",
      "2\n",
      "a is less than 10\n",
      "3\n",
      "a is less than 10\n",
      "4\n",
      "a is less than 10\n",
      "5\n",
      "a is less than 10\n",
      "6\n",
      "a is less than 10\n",
      "7\n",
      "a is less than 10\n",
      "8\n",
      "a is less than 10\n",
      "9\n"
     ]
    }
   ],
   "source": [
    "a=1\n",
    "\n",
    "while a<10:\n",
    "    print('a is less than 10')\n",
    "    print (a)\n",
    "    a=a+1"
   ]
  },
  {
   "cell_type": "code",
   "execution_count": 70,
   "id": "26bbdb93",
   "metadata": {},
   "outputs": [
    {
     "name": "stdout",
     "output_type": "stream",
     "text": [
      "x is currently\n",
      "0\n",
      "adding 1 to x\n",
      "x is currently\n",
      "1\n",
      "adding 1 to x\n",
      "x is currently\n",
      "2\n",
      "adding 1 to x\n"
     ]
    }
   ],
   "source": [
    "x=0\n",
    "\n",
    "while x<3:\n",
    "    print('x is currently')\n",
    "    print(x)\n",
    "    print('adding 1 to x')\n",
    "    x= x+1"
   ]
  },
  {
   "cell_type": "code",
   "execution_count": 72,
   "id": "d7847e4a",
   "metadata": {},
   "outputs": [
    {
     "name": "stdout",
     "output_type": "stream",
     "text": [
      "0\n",
      "adding one to x\n",
      "1\n",
      "adding one to x\n",
      "2\n",
      "adding one to x\n"
     ]
    }
   ],
   "source": [
    "x=0\n",
    "\n",
    "while x<10:\n",
    "    print(x)\n",
    "    print('adding one to x')\n",
    "    x=x+1\n",
    "    \n",
    "    if x==3:\n",
    "        break\n",
    "        #we want the loop to break when x=3"
   ]
  },
  {
   "cell_type": "markdown",
   "id": "ea566e9e",
   "metadata": {},
   "source": [
    "# For loop"
   ]
  },
  {
   "cell_type": "code",
   "execution_count": 73,
   "id": "69a448c2",
   "metadata": {},
   "outputs": [
    {
     "name": "stdout",
     "output_type": "stream",
     "text": [
      "1\n",
      "4\n",
      "9\n",
      "16\n"
     ]
    }
   ],
   "source": [
    "my_list=[1,2,3,4]\n",
    "\n",
    "for num in my_list:\n",
    "    print(num**2)"
   ]
  },
  {
   "cell_type": "code",
   "execution_count": 74,
   "id": "d147e1ff",
   "metadata": {},
   "outputs": [
    {
     "name": "stdout",
     "output_type": "stream",
     "text": [
      "1\n",
      "4\n",
      "9\n",
      "16\n"
     ]
    }
   ],
   "source": [
    "for val in my_list:\n",
    "    print(val**2)"
   ]
  },
  {
   "cell_type": "code",
   "execution_count": 75,
   "id": "dd7ab88a",
   "metadata": {},
   "outputs": [
    {
     "name": "stdout",
     "output_type": "stream",
     "text": [
      "I am in a for loop\n",
      "I am in a for loop\n",
      "I am in a for loop\n",
      "I am in a for loop\n"
     ]
    }
   ],
   "source": [
    "for num in my_list:\n",
    "    print('I am in a for loop')"
   ]
  },
  {
   "cell_type": "code",
   "execution_count": 76,
   "id": "4403a2ae",
   "metadata": {},
   "outputs": [
    {
     "name": "stdout",
     "output_type": "stream",
     "text": [
      "1\n",
      "I am in a for loop\n",
      "2\n",
      "I am in a for loop\n",
      "3\n",
      "I am in a for loop\n",
      "4\n",
      "I am in a for loop\n"
     ]
    }
   ],
   "source": [
    "for num in my_list:\n",
    "    print(num)\n",
    "    print('I am in a for loop')"
   ]
  },
  {
   "cell_type": "code",
   "execution_count": 78,
   "id": "a7032f57",
   "metadata": {},
   "outputs": [
    {
     "name": "stdout",
     "output_type": "stream",
     "text": [
      "0\n",
      "1\n",
      "2\n",
      "3\n"
     ]
    }
   ],
   "source": [
    "for i in range(len(my_list)):\n",
    "    print(i)"
   ]
  },
  {
   "cell_type": "code",
   "execution_count": 79,
   "id": "3a474027",
   "metadata": {},
   "outputs": [
    {
     "name": "stdout",
     "output_type": "stream",
     "text": [
      "1\n",
      "2\n",
      "3\n",
      "4\n"
     ]
    }
   ],
   "source": [
    "for i in range(len(my_list)):\n",
    "    print(my_list[i])"
   ]
  },
  {
   "cell_type": "code",
   "execution_count": 80,
   "id": "df136361",
   "metadata": {},
   "outputs": [
    {
     "name": "stdout",
     "output_type": "stream",
     "text": [
      "t\n",
      "h\n",
      "i\n",
      "s\n",
      " \n",
      "i\n",
      "s\n",
      " \n",
      "a\n",
      " \n",
      "s\n",
      "t\n",
      "r\n",
      "i\n",
      "n\n",
      "g\n"
     ]
    }
   ],
   "source": [
    "#In strings\n",
    "\n",
    "for char in \"this is a string\":\n",
    "    print (char)"
   ]
  },
  {
   "cell_type": "code",
   "execution_count": 81,
   "id": "2cd57a5c",
   "metadata": {},
   "outputs": [
    {
     "data": {
      "text/plain": [
       "['This', 'is', 'a', 'string']"
      ]
     },
     "execution_count": 81,
     "metadata": {},
     "output_type": "execute_result"
    }
   ],
   "source": [
    "mstring='This is a string'\n",
    "\n",
    "mstring.split()"
   ]
  },
  {
   "cell_type": "code",
   "execution_count": 82,
   "id": "6e220c97",
   "metadata": {},
   "outputs": [
    {
     "name": "stdout",
     "output_type": "stream",
     "text": [
      "This\n",
      "is\n",
      "a\n",
      "string\n"
     ]
    }
   ],
   "source": [
    "for word in mstring.split():\n",
    "    print(word)"
   ]
  },
  {
   "cell_type": "code",
   "execution_count": 83,
   "id": "4952274d",
   "metadata": {},
   "outputs": [
    {
     "name": "stdout",
     "output_type": "stream",
     "text": [
      "1\n",
      "2\n",
      "3\n",
      "4\n"
     ]
    }
   ],
   "source": [
    "#with tuples\n",
    "\n",
    "tup=(1,2,3,4)\n",
    "\n",
    "for i in tup:\n",
    "    print(i)"
   ]
  },
  {
   "cell_type": "code",
   "execution_count": 84,
   "id": "4acae155",
   "metadata": {},
   "outputs": [],
   "source": [
    "list_of_tups=[(1,2),(3,4),(5,6),(7,8),(9,10)]"
   ]
  },
  {
   "cell_type": "code",
   "execution_count": 85,
   "id": "0d326d3b",
   "metadata": {},
   "outputs": [
    {
     "name": "stdout",
     "output_type": "stream",
     "text": [
      "(1, 2)\n",
      "(3, 4)\n",
      "(5, 6)\n",
      "(7, 8)\n",
      "(9, 10)\n"
     ]
    }
   ],
   "source": [
    "for x in list_of_tups:\n",
    "    print(x)"
   ]
  },
  {
   "cell_type": "code",
   "execution_count": 86,
   "id": "2669abc2",
   "metadata": {},
   "outputs": [
    {
     "name": "stdout",
     "output_type": "stream",
     "text": [
      "1\n",
      "3\n",
      "5\n",
      "7\n",
      "9\n"
     ]
    }
   ],
   "source": [
    "for x in list_of_tups:\n",
    "    print(x[0])"
   ]
  },
  {
   "cell_type": "code",
   "execution_count": 87,
   "id": "fc14021d",
   "metadata": {},
   "outputs": [
    {
     "name": "stdout",
     "output_type": "stream",
     "text": [
      "2\n",
      "4\n",
      "6\n",
      "8\n",
      "10\n"
     ]
    }
   ],
   "source": [
    "for x in list_of_tups:\n",
    "    print(x[1])"
   ]
  },
  {
   "cell_type": "code",
   "execution_count": 90,
   "id": "78434da9",
   "metadata": {},
   "outputs": [
    {
     "name": "stdout",
     "output_type": "stream",
     "text": [
      "1\n",
      "2\n",
      "\n",
      "\n",
      "3\n",
      "4\n",
      "\n",
      "\n",
      "5\n",
      "6\n",
      "\n",
      "\n",
      "7\n",
      "8\n",
      "\n",
      "\n",
      "9\n",
      "10\n",
      "\n",
      "\n"
     ]
    }
   ],
   "source": [
    "for num1,num2 in list_of_tups:\n",
    "    print(num1)\n",
    "    print(num2)\n",
    "    print('\\n')"
   ]
  },
  {
   "cell_type": "code",
   "execution_count": 91,
   "id": "cbcc5e83",
   "metadata": {},
   "outputs": [],
   "source": [
    "my_dict={'a':1,\n",
    "         'b':2,\n",
    "         'c':3\n",
    "        }"
   ]
  },
  {
   "cell_type": "code",
   "execution_count": 92,
   "id": "c1d5ece8",
   "metadata": {},
   "outputs": [
    {
     "data": {
      "text/plain": [
       "{'a': 1, 'b': 2, 'c': 3}"
      ]
     },
     "execution_count": 92,
     "metadata": {},
     "output_type": "execute_result"
    }
   ],
   "source": [
    "my_dict"
   ]
  },
  {
   "cell_type": "code",
   "execution_count": 95,
   "id": "da215086",
   "metadata": {},
   "outputs": [
    {
     "name": "stdout",
     "output_type": "stream",
     "text": [
      "a\n",
      "b\n",
      "c\n"
     ]
    }
   ],
   "source": [
    "for i in my_dict:\n",
    "    print(i)"
   ]
  },
  {
   "cell_type": "code",
   "execution_count": 97,
   "id": "c1f9ad3b",
   "metadata": {},
   "outputs": [
    {
     "name": "stdout",
     "output_type": "stream",
     "text": [
      "1\n",
      "2\n",
      "3\n"
     ]
    }
   ],
   "source": [
    "for i in my_dict.values():\n",
    "    print(i)"
   ]
  },
  {
   "cell_type": "code",
   "execution_count": 99,
   "id": "c55c4d3e",
   "metadata": {},
   "outputs": [
    {
     "name": "stdout",
     "output_type": "stream",
     "text": [
      "a\n",
      "1\n",
      "\n",
      "\n",
      "b\n",
      "2\n",
      "\n",
      "\n",
      "c\n",
      "3\n",
      "\n",
      "\n"
     ]
    }
   ],
   "source": [
    "for i in my_dict.keys():\n",
    "    print(i)\n",
    "    print(my_dict[i])\n",
    "    print('\\n')"
   ]
  },
  {
   "cell_type": "code",
   "execution_count": 100,
   "id": "10348bde",
   "metadata": {},
   "outputs": [
    {
     "name": "stdout",
     "output_type": "stream",
     "text": [
      "Your score is 30\n",
      "Your score is 40\n",
      "Your score is 60\n"
     ]
    }
   ],
   "source": [
    "scores=[30,40,50,60]\n",
    "\n",
    "for num in scores:\n",
    "    if num==50:\n",
    "        continue\n",
    "    print('Your score is', num)    "
   ]
  },
  {
   "cell_type": "code",
   "execution_count": 102,
   "id": "ddecaa25",
   "metadata": {},
   "outputs": [
    {
     "name": "stdout",
     "output_type": "stream",
     "text": [
      "Your score is 30\n",
      "Your score is 50\n",
      "Your score is 60\n"
     ]
    }
   ],
   "source": [
    "scores=[30,40,50,60]\n",
    "\n",
    "for num in scores:\n",
    "    if num==40:\n",
    "        continue\n",
    "    print('Your score is', num)    "
   ]
  },
  {
   "cell_type": "code",
   "execution_count": 103,
   "id": "627ab924",
   "metadata": {},
   "outputs": [
    {
     "name": "stdout",
     "output_type": "stream",
     "text": [
      "current letter is c\n",
      "current letter is o\n",
      "current letter is d\n"
     ]
    }
   ],
   "source": [
    "for let in 'code':\n",
    "    if let=='e':\n",
    "        continue\n",
    "    print('current letter is', let)    "
   ]
  },
  {
   "cell_type": "code",
   "execution_count": null,
   "id": "12fd63dd",
   "metadata": {},
   "outputs": [],
   "source": []
  }
 ],
 "metadata": {
  "kernelspec": {
   "display_name": "Python 3 (ipykernel)",
   "language": "python",
   "name": "python3"
  },
  "language_info": {
   "codemirror_mode": {
    "name": "ipython",
    "version": 3
   },
   "file_extension": ".py",
   "mimetype": "text/x-python",
   "name": "python",
   "nbconvert_exporter": "python",
   "pygments_lexer": "ipython3",
   "version": "3.10.9"
  }
 },
 "nbformat": 4,
 "nbformat_minor": 5
}
